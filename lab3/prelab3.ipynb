{
 "cells": [
  {
   "cell_type": "code",
   "execution_count": 73,
   "metadata": {},
   "outputs": [],
   "source": [
    "import numpy as np\n",
    "from scipy import constants as const\n",
    "from scipy.linalg import expm\n",
    "import matplotlib.pyplot as plt\n",
    "from scipy.fft import fft, fftfreq"
   ]
  },
  {
   "cell_type": "code",
   "execution_count": 43,
   "metadata": {},
   "outputs": [
    {
     "name": "stdout",
     "output_type": "stream",
     "text": [
      "-401283281.15999997 -100924200.0\n"
     ]
    }
   ],
   "source": [
    "T = 293.15\n",
    "beta = 1/(const.Boltzmann* T)\n",
    "g_h = 267.52218744 * (10**6)\n",
    "g_c = 67.2828 * (10**6)\n",
    "B = 1.5\n",
    "\n",
    "J = 213\n",
    "\n",
    "identity = np.identity(2)\n",
    "sz = np.array([[1,0],[0,-1]]).reshape(2,2)\n",
    "\n",
    "szi = np.kron(sz,identity)\n",
    "isz = np.kron(identity, sz)\n",
    "szsz = np.kron(sz,sz)\n",
    "\n",
    "Omega1 = -1*g_h*B\n",
    "Omega2 = -1*g_c*B\n",
    "print(Omega1,Omega2)\n"
   ]
  },
  {
   "cell_type": "code",
   "execution_count": 47,
   "metadata": {},
   "outputs": [
    {
     "name": "stdout",
     "output_type": "stream",
     "text": [
      "[[0.25001028 0.         0.         0.        ]\n",
      " [0.         0.25000615 0.         0.        ]\n",
      " [0.         0.         0.24999385 0.        ]\n",
      " [0.         0.         0.         0.24998972]]\n",
      "[[ 1.0277297   0.          0.          0.        ]\n",
      " [ 0.          0.61465134  0.          0.        ]\n",
      " [ 0.          0.         -0.61466491  0.        ]\n",
      " [ 0.          0.          0.         -1.02771613]]\n"
     ]
    }
   ],
   "source": [
    "H = (const.h/2)*((Omega1*szi) + (Omega2*isz) + (const.h*np.pi*J*szsz))\n",
    "\n",
    "\n",
    "\n",
    "rho = expm(-1*H*beta)\n",
    "rho = rho/rho.trace()\n",
    "\n",
    "print(rho)\n",
    "\n",
    "print((rho - np.identity(4)/4 )*10**5)"
   ]
  },
  {
   "cell_type": "code",
   "execution_count": 53,
   "metadata": {},
   "outputs": [
    {
     "name": "stdout",
     "output_type": "stream",
     "text": [
      "0.24999657423434432\n",
      "[[0.25001028 0.         0.         0.        ]\n",
      " [0.         0.24999657 0.         0.        ]\n",
      " [0.         0.         0.24999657 0.        ]\n",
      " [0.         0.         0.         0.24999657]]\n",
      "1.3703062622688611e-05\n"
     ]
    }
   ],
   "source": [
    "rho00 = rho[0][0]\n",
    "rho11 = rho[1][1]\n",
    "rho22 = rho[2][2]\n",
    "rho33 = rho[3][3]\n",
    "pbar = (rho11+rho22+rho33)/3\n",
    "print(pbar)\n",
    "\n",
    "rhobar = (rho00 - pbar)*np.diag([1,0,0,0]) + pbar*np.identity(4)\n",
    "print(rhobar)\n",
    "print(rho00 - pbar)\n"
   ]
  },
  {
   "cell_type": "code",
   "execution_count": 145,
   "metadata": {},
   "outputs": [
    {
     "name": "stdout",
     "output_type": "stream",
     "text": [
      "[[-0.-1.j  0.+0.j  0.+0.j  0.+0.j]\n",
      " [ 0.+0.j  1.+0.j  0.+0.j  0.+0.j]\n",
      " [ 0.+0.j  0.+0.j  0.+0.j -0.-1.j]\n",
      " [ 0.+0.j  0.+0.j -1.+0.j  0.+0.j]]\n",
      "[[-0.+1.j  0.-0.j  0.-0.j  0.-0.j]\n",
      " [ 0.-0.j  1.-0.j  0.-0.j  0.-0.j]\n",
      " [ 0.-0.j  0.-0.j  0.-0.j -1.-0.j]\n",
      " [ 0.-0.j  0.-0.j -0.+1.j  0.-0.j]]\n",
      "[[ 5  0  0  0]\n",
      " [ 0  3  0  0]\n",
      " [ 0  0 -5  0]\n",
      " [ 0  0  0 -3]]\n"
     ]
    }
   ],
   "source": [
    "a = np.diag([5,3,-3,-5])\n",
    "cnot = np.array([[1,0,0,0],[0,1,0,0],[0,0,0,1],[0,0,1,0]])\n",
    "\n",
    "\n",
    "near_cnot = np.array([[-1j,0,0,0],[0,1,0,0],[0,0,0,-1j],[0,0,-1,0]])\n",
    "print(near_cnot)\n",
    "print(near_cnot.conjugate().transpose())\n",
    "\n",
    "\n",
    "print(cnot @ a @ cnot.transpose())\n"
   ]
  },
  {
   "cell_type": "code",
   "execution_count": 80,
   "metadata": {},
   "outputs": [
    {
     "data": {
      "text/plain": [
       "[<matplotlib.lines.Line2D at 0x7f1ce4982dc0>]"
      ]
     },
     "execution_count": 80,
     "metadata": {},
     "output_type": "execute_result"
    },
    {
     "data": {
      "image/png": "[encoded data removed]",
      "text/plain": [
       "<Figure size 640x480 with 1 Axes>"
      ]
     },
     "metadata": {},
     "output_type": "display_data"
    }
   ],
   "source": [
    "a = 0.25 + (5*10**(-4))\n",
    "b = 0.25 + (3*10**(-4))\n",
    "c = (0.25 - (5*10**(-4)))*1j\n",
    "d = (0.25 - (3*10**(-4)))*(-1j)\n",
    "\n",
    "def VP(t):\n",
    "    return (a-c)*np.exp(-1j*J*t/2) + (b-d)*np.exp(-1j*J*t/2)\n",
    "\n",
    "def VC(t):\n",
    "    return (a-b)*np.exp(-1j*J*t/2) + (c-d)*np.exp(-1j*J*t/2)\n",
    "\n",
    "\n",
    "# Number of sample points\n",
    "N = 6000\n",
    "# sample spacing\n",
    "T = 1.0 / 8000.0\n",
    "x = np.linspace(0.0, N*T, N, endpoint=False)\n",
    "y = VP(x)\n",
    "\n",
    "yf = fft(y)\n",
    "xf = fftfreq(N, T)[:N//2]\n",
    "\n",
    "#plt.plot(x,y)\n",
    "plt.plot(xf, 2.0/N * np.abs(yf[0:N//2]))"
   ]
  },
  {
   "cell_type": "code",
   "execution_count": 132,
   "metadata": {},
   "outputs": [
    {
     "name": "stdout",
     "output_type": "stream",
     "text": [
      "[[ 0.70710678  0.70710678  0.          0.        ]\n",
      " [ 0.70710678 -0.70710678  0.         -0.        ]\n",
      " [ 0.          0.          0.70710678  0.70710678]\n",
      " [ 0.         -0.          0.70710678 -0.70710678]]\n"
     ]
    }
   ],
   "source": [
    "H = np.array([[1,1],[1,-1]])/np.sqrt(2)\n",
    "CZ1 = expm(1j*np.pi*isz/4)#*const.hbar/2\n",
    "CZ2 = expm(1j*np.pi*szi/4)#*const.hbar/2\n",
    "CZ3 = expm(-1j*np.pi*szsz/4)#*const.hbar/2*const.hbar/2\n",
    "\n",
    "\n",
    "IH = np.kron(np.identity(2), H)\n",
    "HI = np.kron(H,np.identity(2))\n",
    "\n",
    "print(IH)"
   ]
  },
  {
   "cell_type": "code",
   "execution_count": 133,
   "metadata": {},
   "outputs": [
    {
     "name": "stdout",
     "output_type": "stream",
     "text": [
      "[[ 1  0  0  0]\n",
      " [ 0 -1  0  0]\n",
      " [ 0  0 -1  0]\n",
      " [ 0  0  0  1]]\n",
      "[[0.70710678+0.70710678j 0.        +0.j         0.        +0.j\n",
      "  0.        +0.j        ]\n",
      " [0.        +0.j         0.70710678-0.70710678j 0.        +0.j\n",
      "  0.        +0.j        ]\n",
      " [0.        +0.j         0.        +0.j         0.70710678+0.70710678j\n",
      "  0.        +0.j        ]\n",
      " [0.        +0.j         0.        +0.j         0.        +0.j\n",
      "  0.70710678-0.70710678j]]\n",
      "[[0.70710678+0.70710678j 0.        +0.j         0.        +0.j\n",
      "  0.        +0.j        ]\n",
      " [0.        +0.j         0.70710678+0.70710678j 0.        +0.j\n",
      "  0.        +0.j        ]\n",
      " [0.        +0.j         0.        +0.j         0.70710678-0.70710678j\n",
      "  0.        +0.j        ]\n",
      " [0.        +0.j         0.        +0.j         0.        +0.j\n",
      "  0.70710678-0.70710678j]]\n",
      "[[1.+0.j 0.+0.j 0.+0.j 0.+0.j]\n",
      " [0.+0.j 0.+1.j 0.+0.j 0.+0.j]\n",
      " [0.+0.j 0.+0.j 0.+1.j 0.+0.j]\n",
      " [0.+0.j 0.+0.j 0.+0.j 1.+0.j]]\n",
      "[[0.+1.j 0.+0.j 0.+0.j 0.+0.j]\n",
      " [0.+0.j 1.+0.j 0.+0.j 0.+0.j]\n",
      " [0.+0.j 0.+0.j 1.+0.j 0.+0.j]\n",
      " [0.+0.j 0.+0.j 0.+0.j 0.-1.j]]\n",
      "[[ 0.70710678+0.70710678j  0.        +0.j          0.        +0.j\n",
      "   0.        +0.j        ]\n",
      " [ 0.        +0.j          0.70710678+0.70710678j  0.        +0.j\n",
      "   0.        +0.j        ]\n",
      " [ 0.        +0.j          0.        +0.j          0.70710678+0.70710678j\n",
      "   0.        +0.j        ]\n",
      " [ 0.        +0.j          0.        +0.j          0.        +0.j\n",
      "  -0.70710678-0.70710678j]]\n"
     ]
    }
   ],
   "source": [
    "print(szsz)\n",
    "print(CZ1)\n",
    "print(CZ2)\n",
    "print(CZ3/CZ3[0][0])\n",
    "print(CZ1 @ CZ2)\n",
    "print((CZ1 @ CZ2) @ CZ3)"
   ]
  },
  {
   "cell_type": "code",
   "execution_count": 136,
   "metadata": {},
   "outputs": [
    {
     "name": "stdout",
     "output_type": "stream",
     "text": [
      "[[ 1.+0.j  0.+0.j  0.+0.j  0.+0.j]\n",
      " [ 0.+0.j  1.+0.j  0.+0.j  0.+0.j]\n",
      " [ 0.+0.j  0.+0.j  1.+0.j  0.+0.j]\n",
      " [ 0.+0.j  0.+0.j  0.+0.j -1.+0.j]]\n",
      "[[1.+0.j 0.+0.j 0.+0.j 0.+0.j]\n",
      " [0.+0.j 1.+0.j 0.+0.j 0.+0.j]\n",
      " [0.+0.j 0.+0.j 0.+0.j 1.+0.j]\n",
      " [0.+0.j 0.+0.j 1.+0.j 0.+0.j]]\n"
     ]
    }
   ],
   "source": [
    "\n",
    "\n",
    "CZ = (CZ3 @ CZ2 @ CZ1)\n",
    "#CZ = CZ\n",
    "CZ = np.round(CZ/CZ[0][0])\n",
    "print(CZ)\n",
    "\n",
    "CX = IH @ CZ \n",
    "print(CX @ IH)"
   ]
  },
  {
   "cell_type": "code",
   "execution_count": 114,
   "metadata": {},
   "outputs": [
    {
     "name": "stdout",
     "output_type": "stream",
     "text": [
      "[[ 0.  1.  0.  0.]\n",
      " [ 1.  0.  0.  0.]\n",
      " [ 0.  0.  0. -1.]\n",
      " [ 0.  0. -1.  0.]]\n"
     ]
    }
   ],
   "source": [
    "print(IH @ isz@szi @ IH)"
   ]
  }
 ],
 "metadata": {
  "kernelspec": {
   "display_name": "base",
   "language": "python",
   "name": "python3"
  },
  "language_info": {
   "codemirror_mode": {
    "name": "ipython",
    "version": 3
   },
   "file_extension": ".py",
   "mimetype": "text/x-python",
   "name": "python",
   "nbconvert_exporter": "python",
   "pygments_lexer": "ipython3",
   "version": "3.9.13"
  },
  "orig_nbformat": 4,
  "vscode": {
   "interpreter": {
    "hash": "358a77507ec11ddb660ac1d8d3eb0035d960f272c3eb24b4f5810b389e19700a"
   }
  }
 },
 "nbformat": 4,
 "nbformat_minor": 2
}
