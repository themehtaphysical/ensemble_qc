{
 "cells": [
  {
   "cell_type": "code",
   "execution_count": 51,
   "metadata": {},
   "outputs": [],
   "source": [
    "import numpy as np\n",
    "import qutip as qt \n",
    "import matplotlib.pyplot as plt\n",
    "from qutip.qip.operations import *"
   ]
  },
  {
   "cell_type": "code",
   "execution_count": 70,
   "metadata": {},
   "outputs": [],
   "source": [
    "# pulse sequences of various gates\n",
    "\n",
    "def rzi(theta):\n",
    "    return np.kron( np.array(rz(theta)), np.identity(2) )\n",
    "\n",
    "def irz(theta):\n",
    "    return np.kron( np.identity(2), np.array(rz(theta)) )\n",
    "\n",
    "def rzz(theta):\n",
    "    return np.kron( np.array( qt.basis(2,0) * qt.basis(2,0).dag()) , np.array(rz(theta)) ) + np.kron( np.array( qt.basis(2,1) * qt.basis(2,1).dag()) , np.array(rz(-theta)) )\n",
    "\n",
    "def hadmard():\n",
    "    return np.array(ry(-1*np.pi/4)) @ np.array(rx(1*np.pi)) @ np.array(ry(1*np.pi/4))\n",
    "\n",
    "def cz():\n",
    "    return rzz(-np.pi/2) @  irz(np.pi/2) @ rzi(np.pi/2)\n",
    "\n",
    "def x():\n",
    "    return rx(np.pi)\n",
    "\n"
   ]
  },
  {
   "cell_type": "markdown",
   "metadata": {},
   "source": [
    "# 1)"
   ]
  },
  {
   "cell_type": "markdown",
   "metadata": {},
   "source": [
    "## a)\n",
    "\n",
    "One qubit X gate can be written as $R_x(\\pi)$ as \n",
    "\n",
    "$X-Gate = \\begin{bmatrix}0 & 1 \\\\ 1 & 0 \\end{bmatrix}$\n",
    "\n",
    "and \n",
    "\n",
    "$Rx(\\theta) = \\begin{bmatrix}\\cos(\\theta/2) & -\\iota\\sin(\\theta/2) \\\\ -\\iota\\sin(\\theta/2) & \\cos(\\theta/2) \\end{bmatrix} $\n",
    "\n",
    "$Ry(\\theta) = \\begin{bmatrix}\\cos(\\theta/2) & -\\sin(\\theta/2) \\\\ \\sin(\\theta/2) & \\cos(\\theta/2) \\end{bmatrix} $\n",
    "\n",
    "$R_x(\\pi)$ is calculated below using qutip"
   ]
  },
  {
   "cell_type": "code",
   "execution_count": 53,
   "metadata": {},
   "outputs": [
    {
     "name": "stdout",
     "output_type": "stream",
     "text": [
      "R_x(\\pi) = \n",
      "[[0.+0.j 0.-1.j]\n",
      " [0.-1.j 0.+0.j]]\n"
     ]
    }
   ],
   "source": [
    "print(\"R_x(\\pi) = \\n\"+str(np.round(np.array(rx(np.pi)),3)))"
   ]
  },
  {
   "cell_type": "markdown",
   "metadata": {},
   "source": [
    "Which is X-gate with upto a global phase"
   ]
  },
  {
   "cell_type": "markdown",
   "metadata": {},
   "source": [
    "## b)\n",
    "\n",
    "One qubit Hadamard gate can be written as $(R_y(-\\pi/2)) -- (R_z(\\pi))$  or by using $(R_x(\\pi/4)) -- (R_y(\\pi)) -- (R_x(-\\pi/4))$ as \n",
    "\n",
    "$H-Gate = \\begin{bmatrix}1/\\sqrt{2} & 1/\\sqrt{2} \\\\ 1/\\sqrt{2} & -1/\\sqrt{2} \\end{bmatrix}$\n",
    "\n",
    "\n",
    "Both values are calculated using qutip below"
   ]
  },
  {
   "cell_type": "code",
   "execution_count": 54,
   "metadata": {},
   "outputs": [
    {
     "name": "stdout",
     "output_type": "stream",
     "text": [
      "(R_y(-\\pi/2)) -- (R_z(\\pi)) = \n",
      "\n",
      "[[ 0.-0.707j  0.-0.707j]\n",
      " [-0.-0.707j  0.+0.707j]]\n",
      "\n",
      "\n",
      "\n",
      "(R_x(\\pi/4)) -- (R_y(\\pi)) -- (R_x(-\\pi/4)) = \n",
      "\n",
      "[[ 0.-0.707j  0.-0.707j]\n",
      " [-0.-0.707j  0.+0.707j]]\n"
     ]
    }
   ],
   "source": [
    "print(\"(R_y(-\\pi/2)) -- (R_z(\\pi)) = \\n\\n\"+str(np.round(np.array(rz(1*np.pi)) @ np.array(ry(-1*np.pi/2)),3)))\n",
    "print(\"\\n\\n\")\n",
    "print(\"(R_x(\\pi/4)) -- (R_y(\\pi)) -- (R_x(-\\pi/4)) = \\n\\n\"+str(np.round( np.array(ry(-1*np.pi/4)) @ np.array(rx(1*np.pi)) @ np.array(ry(1*np.pi/4)) , 3 )))"
   ]
  },
  {
   "cell_type": "markdown",
   "metadata": {},
   "source": [
    "Which is H-gate with upto a global phase"
   ]
  },
  {
   "cell_type": "markdown",
   "metadata": {},
   "source": [
    "## c)\n",
    "\n",
    "Two qubit CZ gate can be written as \n",
    "\n",
    "$(R_z^{(1)}(\\pi/2)) -- (R_z^{(2)}(\\pi/2)) -- (R_{zz}(-\\pi/2)) $  \n",
    "\n",
    "where $R_z(\\theta)$ gate can be realized as \n",
    "\n",
    "$R_z(\\theta) = R_x(-\\pi/2) -- R_y(\\theta) -- R_x(\\pi/2)$\n",
    "\n",
    "$CZ-Gate = \\begin{bmatrix} 1 & 0 & 0 & 0 \\\\ 0 & 1 & 0 & 0 \\\\ 0 & 0 & 1 & 0 \\\\ 0 & 0 & 0 & -1 \\end{bmatrix}$ \n",
    "\n",
    "\n",
    "Both values are calculated using qutip below"
   ]
  },
  {
   "cell_type": "code",
   "execution_count": 55,
   "metadata": {},
   "outputs": [
    {
     "name": "stdout",
     "output_type": "stream",
     "text": [
      "(R_z^{(1)}(\\pi/2)) -- (R_z^{(2)}(\\pi/2)) -- (R_{zz}(-\\pi/2) = \n",
      "\n",
      "[[ 0.707-0.707j  0.   +0.j     0.   +0.j     0.   +0.j   ]\n",
      " [ 0.   +0.j     0.707-0.707j  0.   +0.j     0.   +0.j   ]\n",
      " [ 0.   +0.j     0.   +0.j     0.707-0.707j  0.   +0.j   ]\n",
      " [ 0.   +0.j     0.   +0.j     0.   +0.j    -0.707+0.707j]]\n",
      "\n",
      "\n",
      "and \n",
      "R_z(\\pi/2) = R_x(-\\pi/2) -- R_y(\\pi/2) -- R_x(\\pi/2) = \n",
      "\n",
      "[[ 0.707-0.707j -0.   +0.j   ]\n",
      " [ 0.   +0.j     0.707+0.707j]]\n"
     ]
    }
   ],
   "source": [
    "print(\"(R_z^{(1)}(\\pi/2)) -- (R_z^{(2)}(\\pi/2)) -- (R_{zz}(-\\pi/2) = \\n\\n\"+str(np.round( rzz(-np.pi/2) @  irz(np.pi/2) @ rzi(np.pi/2)  ,3)))\n",
    "print(\"\\n\\nand \")\n",
    "print(\"R_z(\\pi/2) = R_x(-\\pi/2) -- R_y(\\pi/2) -- R_x(\\pi/2) = \\n\\n\"+str(np.round( np.array(rx(np.pi/2)) @ np.array(ry(1*np.pi/2)) @ np.array(rx(-1*np.pi/2)) , 3 )))"
   ]
  },
  {
   "cell_type": "markdown",
   "metadata": {},
   "source": [
    "Which is CZ gate upto a global phase. Also the Rz gate can be broken into Rx and Ry gates as shown above (upto a global phase)"
   ]
  },
  {
   "cell_type": "markdown",
   "metadata": {},
   "source": [
    "## d)\n",
    "\n",
    "Two qubit CNOT gate can be written as\n",
    "\n",
    " $I \\otimes H -- CZ -- I \\otimes H$\n",
    " \n",
    "  or\n",
    "\n",
    "  $(R_x^{(2)}(\\pi/4)) -- (R_y^{(2)}(\\pi)) -- (R_x^{(2)}(-\\pi/4)) -- (R_z^{(1)}(\\pi/2)) -- (R_z^{(2)}(\\pi/2)) -- (R_{zz}(-\\pi/2)) -- (R_x^{(2)}(\\pi/4)) -- (R_y^{(2)}(\\pi)) -- (R_x^{(2)}(-\\pi/4))$ \n",
    "\n",
    "$CNOT-Gate = \\begin{bmatrix} 1 & 0 & 0 & 0 \\\\ 0 & 1 & 0 & 0 \\\\ 0 & 0 & 0 & 1 \\\\ 0 & 0 & 1 & 0 \\end{bmatrix}$ \n",
    "\n",
    "\n",
    "Both values are calculated using qutip below"
   ]
  },
  {
   "cell_type": "code",
   "execution_count": 56,
   "metadata": {},
   "outputs": [
    {
     "name": "stdout",
     "output_type": "stream",
     "text": [
      "(R_x^{(2)}(\\pi/4)) -- (R_y^{(2)}(\\pi)) -- (R_x^{(2)}(-\\pi/4)) -- (R_z^{(1)}(\\pi/2)) -- (R_z^{(2)}(\\pi/2)) -- (R_{zz}(-\\pi/2)) -- (R_x^{(2)}(\\pi/4)) -- (R_y^{(2)}(\\pi)) -- (R_x^{(2)}(-\\pi/4)) = \n",
      "\n",
      "[[-0.707+0.707j -0.   -0.j     0.   +0.j     0.   +0.j   ]\n",
      " [ 0.   +0.j    -0.707+0.707j  0.   +0.j     0.   +0.j   ]\n",
      " [ 0.   +0.j     0.   +0.j    -0.   -0.j    -0.707+0.707j]\n",
      " [ 0.   +0.j     0.   +0.j    -0.707+0.707j -0.   -0.j   ]]\n",
      "\n",
      "\n",
      " \n"
     ]
    }
   ],
   "source": [
    "print(\"(R_x^{(2)}(\\pi/4)) -- (R_y^{(2)}(\\pi)) -- (R_x^{(2)}(-\\pi/4)) -- (R_z^{(1)}(\\pi/2)) -- (R_z^{(2)}(\\pi/2)) -- (R_{zz}(-\\pi/2)) -- (R_x^{(2)}(\\pi/4)) -- (R_y^{(2)}(\\pi)) -- (R_x^{(2)}(-\\pi/4)) = \\n\\n\" + str(np.round(\n",
    "    np.kron( np.identity(2), np.array(rz(1*np.pi)) )  @  np.kron( np.identity(2),  np.array(ry(-1*np.pi/2))) @ \n",
    "    rzz(-np.pi/2) @  irz(np.pi/2) @ rzi(np.pi/2) @\n",
    "    np.kron( np.identity(2), np.array(rz(1*np.pi)) )  @  np.kron( np.identity(2),  np.array(ry(-1*np.pi/2)))   ,3)))\n",
    "print(\"\\n\\n \")\n"
   ]
  },
  {
   "cell_type": "markdown",
   "metadata": {},
   "source": [
    "Which is CNOT gate upto a global phase."
   ]
  },
  {
   "attachments": {},
   "cell_type": "markdown",
   "metadata": {},
   "source": [
    "The calibrated elemental gates we need for this are just the $R_x$ and $R_y$ gates. We can simplify or reduce our pulses if our native architecture supports $R_z$ pulses, however if it is not possible, as is the case with NMR systems, we can decompose our $R_z$ pulses to $R_x$ and $R_y$ pulses as indicated above. We also use $R_{zz}$ pulses which are nothing but a delay and letting the system evolve under the z-hamiltonian. "
   ]
  },
  {
   "cell_type": "markdown",
   "metadata": {},
   "source": [
    "# 2)"
   ]
  },
  {
   "cell_type": "code",
   "execution_count": 75,
   "metadata": {},
   "outputs": [
    {
     "name": "stdout",
     "output_type": "stream",
     "text": [
      "[[1. 0. 0. 0.]\n",
      " [0. 1. 0. 0.]\n",
      " [0. 0. 1. 0.]\n",
      " [0. 0. 0. 1.]]\n",
      "[[ 1.-0.j -0.+0.j -0.-0.j -0.-0.j]\n",
      " [ 0.+0.j  1.-0.j -0.-0.j -0.-0.j]\n",
      " [-0.-0.j -0.-0.j  0.+0.j  1.-0.j]\n",
      " [-0.-0.j -0.-0.j  1.-0.j -0.+0.j]]\n",
      "[[ 0.+0.j -1.+0.j  0.-0.j  0.-0.j]\n",
      " [-1.+0.j  0.+0.j  0.-0.j  0.-0.j]\n",
      " [ 0.-0.j  0.-0.j -1.+0.j  0.+0.j]\n",
      " [ 0.-0.j  0.-0.j  0.+0.j -1.+0.j]]\n",
      "[[0.+0.j 0.-1.j 0.+0.j 0.+0.j]\n",
      " [0.-1.j 0.+0.j 0.+0.j 0.+0.j]\n",
      " [0.+0.j 0.+0.j 0.+0.j 0.-1.j]\n",
      " [0.+0.j 0.+0.j 0.-1.j 0.+0.j]]\n"
     ]
    }
   ],
   "source": [
    "uf1 = np.kron( np.identity(2), np.identity(2) )\n",
    "\n",
    "uf2 = ( np.kron(np.identity(2), hadmard()) @ cz() @  np.kron(np.identity(2), hadmard()) )\n",
    "# remove the global phase of uf2 \n",
    "uf2 = np.round( uf2*np.abs(uf2[0][0])/(uf2[0][0]) , 3)\n",
    "\n",
    "uf3 = np.round(np.kron(x(), np.identity(2)) @ uf2 @ np.kron(x(), np.identity(2)) , 3)\n",
    "\n",
    "uf4 = np.round( np.kron(np.identity(2), x()) , 3)\n",
    "\n",
    "print(uf1)\n",
    "print(uf2)\n",
    "print(uf3)\n",
    "print(uf4)"
   ]
  },
  {
   "cell_type": "code",
   "execution_count": 105,
   "metadata": {},
   "outputs": [],
   "source": [
    "# define ry1, ry2 and ry1bar, ry2bar\n",
    "\n",
    "def ry1():\n",
    "    return np.kron( ry(np.pi/2), np.identity(2))\n",
    "def ry1bar():\n",
    "    return np.kron( ry(-np.pi/2), np.identity(2))\n",
    "def ry2():\n",
    "    return np.kron(np.identity(2), ry(np.pi/2))\n",
    "def ry2bar():\n",
    "    return np.kron(np.identity(2), ry(-np.pi/2))\n",
    "\n",
    "\n"
   ]
  },
  {
   "cell_type": "code",
   "execution_count": 106,
   "metadata": {},
   "outputs": [],
   "source": [
    "# define rx1, rx2 and rx1bar, rx2bar\n",
    "\n",
    "def rx1():\n",
    "    return np.kron( rx(np.pi/2), np.identity(2))\n",
    "def rx1bar():\n",
    "    return np.kron( rx(-np.pi/2), np.identity(2))\n",
    "def rx2():\n",
    "    return np.kron(np.identity(2), rx(np.pi/2))\n",
    "def rx2bar():\n",
    "    return np.kron(np.identity(2), rx(-np.pi/2))\n",
    "\n",
    "\n"
   ]
  },
  {
   "cell_type": "code",
   "execution_count": 85,
   "metadata": {},
   "outputs": [
    {
     "name": "stdout",
     "output_type": "stream",
     "text": [
      "U1 is:\n",
      "[[1.+0.j 0.+0.j 0.+0.j 0.+0.j]\n",
      " [0.+0.j 1.+0.j 0.+0.j 0.+0.j]\n",
      " [0.+0.j 0.+0.j 1.+0.j 0.+0.j]\n",
      " [0.+0.j 0.+0.j 0.+0.j 1.+0.j]]\n",
      "\n",
      "\n",
      "U2 is:\n",
      "[[ 0.+0.j  0.+0.j -1.+0.j  0.+0.j]\n",
      " [ 0.+0.j  1.+0.j  0.+0.j -0.+0.j]\n",
      " [-1.+0.j  0.+0.j -0.+0.j  0.+0.j]\n",
      " [ 0.+0.j -0.+0.j  0.+0.j  1.+0.j]]\n",
      "\n",
      "\n",
      "U3 is:\n",
      "[[ 0.+0.j -0.+0.j -1.+0.j  0.+0.j]\n",
      " [-0.+0.j -1.+0.j  0.+0.j -0.+0.j]\n",
      " [-1.+0.j  0.+0.j -0.+0.j -0.+0.j]\n",
      " [ 0.+0.j -0.+0.j -0.+0.j -1.+0.j]]\n",
      "\n",
      "\n",
      "U4 is:\n",
      "[[0.+1.j 0.-0.j 0.+0.j 0.+0.j]\n",
      " [0.-0.j 0.-1.j 0.+0.j 0.+0.j]\n",
      " [0.+0.j 0.+0.j 0.+1.j 0.-0.j]\n",
      " [0.+0.j 0.+0.j 0.-0.j 0.-1.j]]\n"
     ]
    }
   ],
   "source": [
    "U1 = np.round( ry1bar() @ ry2() @ uf1 @ ry1() @ ry2bar() , 3)\n",
    "U2 = np.round( ry1bar() @ ry2() @ uf2 @ ry1() @ ry2bar() , 3)\n",
    "U3 = np.round( ry1bar() @ ry2() @ uf3 @ ry1() @ ry2bar() , 3)\n",
    "U4 = np.round( ry1bar() @ ry2() @ uf4 @ ry1() @ ry2bar() , 3)\n",
    "\n",
    "\n",
    "print(\"U1 is:\")\n",
    "print(U1)\n",
    "print(\"\\n\")\n",
    "print(\"U2 is:\")\n",
    "print(U2)\n",
    "print(\"\\n\")\n",
    "print(\"U3 is:\")\n",
    "print(U3)\n",
    "print(\"\\n\")\n",
    "print(\"U4 is:\")\n",
    "print(U4)"
   ]
  },
  {
   "cell_type": "markdown",
   "metadata": {},
   "source": [
    "# 3)\n",
    "## Two qubit Deutsch-Jozsa"
   ]
  },
  {
   "cell_type": "markdown",
   "metadata": {},
   "source": [
    "Step 1: \n",
    "State prearation $\\ket{00}$: Apply one of the P0, P1, P2 pulses (in separate instances of experiment run) where \n",
    "\n",
    "P0 = Identity(4x4)\n",
    "\n",
    "P1 = CNOT(1,2) . CNOT(2,1)\n",
    "\n",
    "P2 = CNOT(2,1) . CNOT(1,2) \n",
    "\n",
    "in each separate instance and then average results for all state preparation\n",
    "\n",
    "Step 2:\n",
    "Apply the $U_k$ unitaries calculated earlier\n",
    "\n",
    "Step 3: \n",
    "Measure qubit 1 (or calculate the output density matrix)\n",
    "\n",
    "Step 4:\n",
    "Take average of density matrices for P0, P1, P2\n",
    "\n",
    "(Note: We don't need to apply X gates or the Hadamards as is also suggested by the paper, because we factor it into our $U_k$ uniatry pulses)\n",
    "\n"
   ]
  },
  {
   "cell_type": "code",
   "execution_count": 98,
   "metadata": {},
   "outputs": [],
   "source": [
    "def cnot12():\n",
    "    return ( np.kron(np.identity(2), hadmard()) @ cz() @  np.kron(np.identity(2), hadmard()) )\n",
    "def cnot21():\n",
    "    return ( np.kron( hadmard(), np.identity(2)) @ cz() @  np.kron( hadmard(), np.identity(2)) )\n",
    "\n",
    "def P0():\n",
    "    return np.kron(np.identity(2), np.identity(2))\n",
    "\n",
    "def P1():\n",
    "    return cnot12() @ cnot21()\n",
    "\n",
    "def P2():\n",
    "    return cnot21() @ cnot12()\n",
    "\n",
    "def DJ_circuit(Pk, oracle):\n",
    "    return oracle @ Pk\n",
    "\n",
    "def output_density_matrix(input_density, oracle):\n",
    "    P0_measure = DJ_circuit(P0(), oracle) @ input_density @ np.conjugate(np.transpose(DJ_circuit(P0(), oracle)))\n",
    "    P1_measure = DJ_circuit(P1(), oracle) @ input_density @ np.conjugate(np.transpose(DJ_circuit(P1(), oracle)))\n",
    "    P2_measure = DJ_circuit(P2(), oracle) @ input_density @ np.conjugate(np.transpose(DJ_circuit(P2(), oracle)))\n",
    "\n",
    "    return np.round((P0_measure + P1_measure + P2_measure)/3 , 5)\n",
    "\n"
   ]
  },
  {
   "cell_type": "markdown",
   "metadata": {},
   "source": [
    "### U1 output"
   ]
  },
  {
   "cell_type": "code",
   "execution_count": 101,
   "metadata": {},
   "outputs": [
    {
     "name": "stdout",
     "output_type": "stream",
     "text": [
      "[[ 0.2505 +0.j -0.     +0.j -0.     +0.j -0.     +0.j]\n",
      " [-0.     -0.j  0.24983+0.j  0.     +0.j  0.     +0.j]\n",
      " [-0.     -0.j  0.     -0.j  0.24983+0.j  0.     +0.j]\n",
      " [-0.     -0.j  0.     -0.j  0.     -0.j  0.24983-0.j]]\n",
      "\n",
      "\n",
      "The relative population is :\n",
      "[[ 5. +0.j -0. +0.j -0. +0.j -0. +0.j]\n",
      " [ 0. -0.j -1.7+0.j  0. +0.j  0. +0.j]\n",
      " [ 0. -0.j  0. +0.j -1.7+0.j  0. +0.j]\n",
      " [ 0. -0.j  0. +0.j  0. +0.j -1.7-0.j]]\n"
     ]
    }
   ],
   "source": [
    "thermal_density_matrix = 0.25*np.identity(4) + 10**(-4)*np.diag([5, 3, -3, -5  ])\n",
    "\n",
    "print(output_density_matrix(thermal_density_matrix, U1))\n",
    "\n",
    "print(\"\\n\\nThe relative population is :\")\n",
    "\n",
    "print((output_density_matrix(thermal_density_matrix, U1) - 0.25*np.identity(4))*10**(4))"
   ]
  },
  {
   "cell_type": "markdown",
   "metadata": {},
   "source": [
    "We see the probability of state $\\ket{00}$ is highest thus we measure qubit 1 in state $\\ket{0}$. Therefore this is a constant function."
   ]
  },
  {
   "cell_type": "markdown",
   "metadata": {},
   "source": [
    "### U2 output"
   ]
  },
  {
   "cell_type": "code",
   "execution_count": 102,
   "metadata": {},
   "outputs": [
    {
     "name": "stdout",
     "output_type": "stream",
     "text": [
      "[[ 0.24983+0.j -0.     +0.j -0.     -0.j -0.     -0.j]\n",
      " [-0.     -0.j  0.24983+0.j  0.     +0.j  0.     +0.j]\n",
      " [-0.     +0.j  0.     -0.j  0.2505 +0.j  0.     -0.j]\n",
      " [-0.     +0.j  0.     -0.j  0.     +0.j  0.24983-0.j]]\n",
      "\n",
      "\n",
      "The relative population is :\n",
      "[[-1.7+0.j -0. +0.j  0. -0.j  0. -0.j]\n",
      " [ 0. -0.j -1.7+0.j  0. +0.j  0. +0.j]\n",
      " [-0. +0.j  0. +0.j  5. +0.j  0. +0.j]\n",
      " [-0. +0.j  0. +0.j  0. +0.j -1.7-0.j]]\n"
     ]
    }
   ],
   "source": [
    "thermal_density_matrix = 0.25*np.identity(4) + 10**(-4)*np.diag([5, 3, -3, -5  ])\n",
    "\n",
    "print(output_density_matrix(thermal_density_matrix, U2))\n",
    "\n",
    "print(\"\\n\\nThe relative population is :\")\n",
    "\n",
    "print((output_density_matrix(thermal_density_matrix, U2) - 0.25*np.identity(4))*10**(4))"
   ]
  },
  {
   "cell_type": "markdown",
   "metadata": {},
   "source": [
    "We see the probability of state $\\ket{10}$ is highest thus we measure qubit 1 in state $\\ket{1}$. Therefore this is a constant function."
   ]
  },
  {
   "cell_type": "markdown",
   "metadata": {},
   "source": [
    "### U3 output"
   ]
  },
  {
   "cell_type": "code",
   "execution_count": 103,
   "metadata": {},
   "outputs": [
    {
     "name": "stdout",
     "output_type": "stream",
     "text": [
      "[[ 0.24983+0.j  0.     -0.j -0.     -0.j  0.     +0.j]\n",
      " [ 0.     +0.j  0.24983+0.j -0.     -0.j  0.     +0.j]\n",
      " [-0.     +0.j -0.     +0.j  0.2505 +0.j -0.     +0.j]\n",
      " [ 0.     -0.j  0.     -0.j -0.     -0.j  0.24983-0.j]]\n",
      "\n",
      "\n",
      "The relative population is :\n",
      "[[-1.7+0.j  0. +0.j  0. -0.j  0. +0.j]\n",
      " [ 0. +0.j -1.7+0.j  0. -0.j  0. +0.j]\n",
      " [-0. +0.j -0. +0.j  5. +0.j -0. +0.j]\n",
      " [ 0. +0.j  0. +0.j  0. -0.j -1.7-0.j]]\n"
     ]
    }
   ],
   "source": [
    "thermal_density_matrix = 0.25*np.identity(4) + 10**(-4)*np.diag([5, 3, -3, -5  ])\n",
    "\n",
    "print(output_density_matrix(thermal_density_matrix, U3))\n",
    "\n",
    "print(\"\\n\\nThe relative population is :\")\n",
    "\n",
    "print((output_density_matrix(thermal_density_matrix, U3) - 0.25*np.identity(4))*10**(4))"
   ]
  },
  {
   "cell_type": "markdown",
   "metadata": {},
   "source": [
    "We see the probability of state $\\ket{10}$ is highest thus we measure qubit 1 in state $\\ket{1}$. Therefore this is a constant function."
   ]
  },
  {
   "cell_type": "markdown",
   "metadata": {},
   "source": [
    "### U4 output"
   ]
  },
  {
   "cell_type": "code",
   "execution_count": 104,
   "metadata": {},
   "outputs": [
    {
     "name": "stdout",
     "output_type": "stream",
     "text": [
      "[[ 0.2505 +0.j  0.     -0.j -0.     +0.j  0.     -0.j]\n",
      " [ 0.     +0.j  0.24983+0.j -0.     -0.j  0.     +0.j]\n",
      " [-0.     -0.j -0.     +0.j  0.24983+0.j -0.     -0.j]\n",
      " [ 0.     +0.j  0.     -0.j -0.     +0.j  0.24983-0.j]]\n",
      "\n",
      "\n",
      "The relative population is :\n",
      "[[ 5. +0.j  0. +0.j -0. +0.j  0. +0.j]\n",
      " [ 0. +0.j -1.7+0.j  0. -0.j  0. +0.j]\n",
      " [ 0. -0.j -0. +0.j -1.7+0.j  0. -0.j]\n",
      " [ 0. +0.j  0. +0.j -0. +0.j -1.7-0.j]]\n"
     ]
    }
   ],
   "source": [
    "thermal_density_matrix = 0.25*np.identity(4) + 10**(-4)*np.diag([5, 3, -3, -5  ])\n",
    "\n",
    "print(output_density_matrix(thermal_density_matrix, U4))\n",
    "\n",
    "print(\"\\n\\nThe relative population is :\")\n",
    "\n",
    "print((output_density_matrix(thermal_density_matrix, U4) - 0.25*np.identity(4))*10**(4))"
   ]
  },
  {
   "cell_type": "markdown",
   "metadata": {},
   "source": [
    "We see the probability of state $\\ket{00}$ is highest thus we measure qubit 1 in state $\\ket{0}$. Therefore this is a constant function."
   ]
  },
  {
   "cell_type": "markdown",
   "metadata": {},
   "source": [
    "# 4)"
   ]
  },
  {
   "cell_type": "markdown",
   "metadata": {},
   "source": [
    "## Grover's Algorithm"
   ]
  },
  {
   "cell_type": "markdown",
   "metadata": {},
   "source": [
    "Step 1: \n",
    "State prearation $\\ket{00}$: Apply one of the P0, P1, P2 pulses (in separate instances of experiment run) where \n",
    "\n",
    "P0 = Identity(4x4)\n",
    "\n",
    "P1 = CNOT(1,2) . CNOT(2,1)\n",
    "\n",
    "P2 = CNOT(2,1) . CNOT(1,2) \n",
    "\n",
    "in each separate instance and then average results for all state preparation\n",
    "\n",
    "Step 2:\n",
    "Apply the $H \\otimes H$ on circuit\n",
    "\n",
    "Step 3:\n",
    "Apply the 'G' pulses on circuit\n",
    "\n",
    "Step 3: \n",
    "Measure qubits form the density matrix\n",
    "\n",
    "Step 4:\n",
    "Take average of density matrices for P0, P1, P2\n",
    "\n",
    "(Note: We don't need to apply X gates or the Hadamards as is also suggested by the paper, because we factor it into our $U_k$ uniatry pulses)\n",
    "\n"
   ]
  },
  {
   "cell_type": "code",
   "execution_count": 111,
   "metadata": {},
   "outputs": [
    {
     "name": "stdout",
     "output_type": "stream",
     "text": [
      "[[ 0.707+0.707j  0.   -0.j     0.   -0.j    -0.   +0.j   ]\n",
      " [ 0.   -0.j     0.707+0.707j -0.   -0.j    -0.   -0.j   ]\n",
      " [ 0.   -0.j    -0.   -0.j     0.707+0.707j -0.   +0.j   ]\n",
      " [-0.   +0.j     0.   -0.j     0.   -0.j    -0.707-0.707j]]\n"
     ]
    }
   ],
   "source": [
    "grover_oracle = ry1() @  rx1() @ ry1bar() @ ry2() @ rx2() @ ry2bar() @ rzz(np.pi/2) \n",
    "\n",
    "print(np.round(grover_oracle, 3))"
   ]
  },
  {
   "cell_type": "code",
   "execution_count": 114,
   "metadata": {},
   "outputs": [
    {
     "name": "stdout",
     "output_type": "stream",
     "text": [
      "[[-0.707-0.707j -0.   +0.j     0.   +0.j    -0.   +0.j   ]\n",
      " [ 0.   -0.j     0.707+0.707j -0.   -0.j     0.   +0.j   ]\n",
      " [ 0.   +0.j    -0.   -0.j     0.707+0.707j -0.   +0.j   ]\n",
      " [-0.   +0.j    -0.   +0.j    -0.   +0.j     0.707+0.707j]]\n"
     ]
    }
   ],
   "source": [
    "P = ry1() @  rx1bar() @ ry1bar() @ ry2() @ rx2bar() @ ry2bar() @ rzz(np.pi/2) \n",
    "\n",
    "print(np.round(P, 3))"
   ]
  },
  {
   "cell_type": "code",
   "execution_count": 119,
   "metadata": {},
   "outputs": [
    {
     "name": "stdout",
     "output_type": "stream",
     "text": [
      "[[-0.+0.5j  0.-0.5j  0.-0.5j -0.+0.5j]\n",
      " [ 0.-0.5j  0.+0.5j  0.-0.5j -0.+0.5j]\n",
      " [ 0.-0.5j  0.-0.5j  0.+0.5j -0.+0.5j]\n",
      " [-0.-0.5j -0.-0.5j -0.-0.5j -0.-0.5j]]\n"
     ]
    }
   ],
   "source": [
    "G = np.kron(hadmard(), hadmard()) @ P @ np.kron(hadmard(), hadmard()) @ grover_oracle\n",
    "\n",
    "print(np.round(G,3))"
   ]
  },
  {
   "cell_type": "code",
   "execution_count": 132,
   "metadata": {},
   "outputs": [],
   "source": [
    "def grover_circuit(Pk):\n",
    "    return G @ np.kron((hadmard()), (hadmard())) @ Pk"
   ]
  },
  {
   "cell_type": "code",
   "execution_count": 133,
   "metadata": {},
   "outputs": [],
   "source": [
    "def output_density_matrix_grover(input_density_matrix):\n",
    "    P0_measure = grover_circuit(P0()) @ input_density_matrix @ np.conjugate(np.transpose(grover_circuit((P0()))))\n",
    "    P1_measure = grover_circuit(P1()) @ input_density_matrix @ np.conjugate(np.transpose(grover_circuit((P1()))))\n",
    "    P2_measure = grover_circuit(P2()) @ input_density_matrix @ np.conjugate(np.transpose(grover_circuit((P2()))))\n",
    "\n",
    "    return (P0_measure + P1_measure + P2_measure)/3\n"
   ]
  },
  {
   "cell_type": "code",
   "execution_count": 139,
   "metadata": {},
   "outputs": [
    {
     "name": "stdout",
     "output_type": "stream",
     "text": [
      "[[ 0.249833+0.j  0.      -0.j -0.      -0.j  0.      -0.j]\n",
      " [ 0.      +0.j  0.249833+0.j -0.      +0.j -0.      +0.j]\n",
      " [-0.      +0.j -0.      -0.j  0.249833+0.j -0.      +0.j]\n",
      " [ 0.      +0.j -0.      -0.j -0.      -0.j  0.2505  +0.j]]\n",
      "\n",
      "\n",
      "The relative population is :\n",
      "[[-1.67+0.j  0.  +0.j  0.  -0.j  0.  +0.j]\n",
      " [ 0.  +0.j -1.67+0.j -0.  +0.j -0.  +0.j]\n",
      " [-0.  +0.j  0.  -0.j -1.67+0.j -0.  +0.j]\n",
      " [ 0.  +0.j  0.  -0.j  0.  -0.j  5.  +0.j]]\n"
     ]
    }
   ],
   "source": [
    "print(np.round(output_density_matrix_grover(thermal_density_matrix), 6))\n",
    "print(\"\\n\\nThe relative population is :\")\n",
    "\n",
    "print((np.round(output_density_matrix_grover(thermal_density_matrix), 6) - 0.25*np.identity(4))*10**(4))"
   ]
  },
  {
   "cell_type": "markdown",
   "metadata": {},
   "source": [
    "We see the probability of state $\\ket{11}$ is highest and this is our output."
   ]
  }
 ],
 "metadata": {
  "kernelspec": {
   "display_name": "Python 3 (ipykernel)",
   "language": "python",
   "name": "python3"
  },
  "language_info": {
   "codemirror_mode": {
    "name": "ipython",
    "version": 3
   },
   "file_extension": ".py",
   "mimetype": "text/x-python",
   "name": "python",
   "nbconvert_exporter": "python",
   "pygments_lexer": "ipython3",
   "version": "3.9.13"
  }
 },
 "nbformat": 4,
 "nbformat_minor": 2
}
